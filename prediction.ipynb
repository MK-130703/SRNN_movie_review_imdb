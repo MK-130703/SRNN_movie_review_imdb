{
 "cells": [
  {
   "cell_type": "code",
   "execution_count": 1,
   "id": "c93e1c1d",
   "metadata": {},
   "outputs": [],
   "source": [
    "# Step 1: Import Libraries and Load the Model\n",
    "import numpy as np\n",
    "import tensorflow as tf\n",
    "from tensorflow.keras.datasets import imdb\n",
    "from tensorflow.keras.preprocessing import sequence\n",
    "from tensorflow.keras.models import load_model"
   ]
  },
  {
   "cell_type": "code",
   "execution_count": 2,
   "id": "768878b7",
   "metadata": {},
   "outputs": [],
   "source": [
    "\n",
    "# Load the IMDB dataset word index\n",
    "word_index = imdb.get_word_index()\n",
    "reverse_word_index = {value: key for key, value in word_index.items()}"
   ]
  },
  {
   "cell_type": "code",
   "execution_count": 3,
   "id": "f232cacd",
   "metadata": {},
   "outputs": [
    {
     "name": "stderr",
     "output_type": "stream",
     "text": [
      "WARNING:absl:Compiled the loaded model, but the compiled metrics have yet to be built. `model.compile_metrics` will be empty until you train or evaluate the model.\n"
     ]
    },
    {
     "data": {
      "text/html": [
       "<pre style=\"white-space:pre;overflow-x:auto;line-height:normal;font-family:Menlo,'DejaVu Sans Mono',consolas,'Courier New',monospace\"><span style=\"font-weight: bold\">Model: \"sequential\"</span>\n",
       "</pre>\n"
      ],
      "text/plain": [
       "\u001b[1mModel: \"sequential\"\u001b[0m\n"
      ]
     },
     "metadata": {},
     "output_type": "display_data"
    },
    {
     "data": {
      "text/html": [
       "<pre style=\"white-space:pre;overflow-x:auto;line-height:normal;font-family:Menlo,'DejaVu Sans Mono',consolas,'Courier New',monospace\">┏━━━━━━━━━━━━━━━━━━━━━━━━━━━━━━━━━┳━━━━━━━━━━━━━━━━━━━━━━━━┳━━━━━━━━━━━━━━━┓\n",
       "┃<span style=\"font-weight: bold\"> Layer (type)                    </span>┃<span style=\"font-weight: bold\"> Output Shape           </span>┃<span style=\"font-weight: bold\">       Param # </span>┃\n",
       "┡━━━━━━━━━━━━━━━━━━━━━━━━━━━━━━━━━╇━━━━━━━━━━━━━━━━━━━━━━━━╇━━━━━━━━━━━━━━━┩\n",
       "│ embedding (<span style=\"color: #0087ff; text-decoration-color: #0087ff\">Embedding</span>)           │ (<span style=\"color: #00d7ff; text-decoration-color: #00d7ff\">None</span>, <span style=\"color: #00af00; text-decoration-color: #00af00\">500</span>, <span style=\"color: #00af00; text-decoration-color: #00af00\">128</span>)       │     <span style=\"color: #00af00; text-decoration-color: #00af00\">1,280,000</span> │\n",
       "├─────────────────────────────────┼────────────────────────┼───────────────┤\n",
       "│ simple_rnn (<span style=\"color: #0087ff; text-decoration-color: #0087ff\">SimpleRNN</span>)          │ (<span style=\"color: #00d7ff; text-decoration-color: #00d7ff\">None</span>, <span style=\"color: #00af00; text-decoration-color: #00af00\">128</span>)            │        <span style=\"color: #00af00; text-decoration-color: #00af00\">32,896</span> │\n",
       "├─────────────────────────────────┼────────────────────────┼───────────────┤\n",
       "│ dense (<span style=\"color: #0087ff; text-decoration-color: #0087ff\">Dense</span>)                   │ (<span style=\"color: #00d7ff; text-decoration-color: #00d7ff\">None</span>, <span style=\"color: #00af00; text-decoration-color: #00af00\">1</span>)              │           <span style=\"color: #00af00; text-decoration-color: #00af00\">129</span> │\n",
       "└─────────────────────────────────┴────────────────────────┴───────────────┘\n",
       "</pre>\n"
      ],
      "text/plain": [
       "┏━━━━━━━━━━━━━━━━━━━━━━━━━━━━━━━━━┳━━━━━━━━━━━━━━━━━━━━━━━━┳━━━━━━━━━━━━━━━┓\n",
       "┃\u001b[1m \u001b[0m\u001b[1mLayer (type)                   \u001b[0m\u001b[1m \u001b[0m┃\u001b[1m \u001b[0m\u001b[1mOutput Shape          \u001b[0m\u001b[1m \u001b[0m┃\u001b[1m \u001b[0m\u001b[1m      Param #\u001b[0m\u001b[1m \u001b[0m┃\n",
       "┡━━━━━━━━━━━━━━━━━━━━━━━━━━━━━━━━━╇━━━━━━━━━━━━━━━━━━━━━━━━╇━━━━━━━━━━━━━━━┩\n",
       "│ embedding (\u001b[38;5;33mEmbedding\u001b[0m)           │ (\u001b[38;5;45mNone\u001b[0m, \u001b[38;5;34m500\u001b[0m, \u001b[38;5;34m128\u001b[0m)       │     \u001b[38;5;34m1,280,000\u001b[0m │\n",
       "├─────────────────────────────────┼────────────────────────┼───────────────┤\n",
       "│ simple_rnn (\u001b[38;5;33mSimpleRNN\u001b[0m)          │ (\u001b[38;5;45mNone\u001b[0m, \u001b[38;5;34m128\u001b[0m)            │        \u001b[38;5;34m32,896\u001b[0m │\n",
       "├─────────────────────────────────┼────────────────────────┼───────────────┤\n",
       "│ dense (\u001b[38;5;33mDense\u001b[0m)                   │ (\u001b[38;5;45mNone\u001b[0m, \u001b[38;5;34m1\u001b[0m)              │           \u001b[38;5;34m129\u001b[0m │\n",
       "└─────────────────────────────────┴────────────────────────┴───────────────┘\n"
      ]
     },
     "metadata": {},
     "output_type": "display_data"
    },
    {
     "data": {
      "text/html": [
       "<pre style=\"white-space:pre;overflow-x:auto;line-height:normal;font-family:Menlo,'DejaVu Sans Mono',consolas,'Courier New',monospace\"><span style=\"font-weight: bold\"> Total params: </span><span style=\"color: #00af00; text-decoration-color: #00af00\">1,313,027</span> (5.01 MB)\n",
       "</pre>\n"
      ],
      "text/plain": [
       "\u001b[1m Total params: \u001b[0m\u001b[38;5;34m1,313,027\u001b[0m (5.01 MB)\n"
      ]
     },
     "metadata": {},
     "output_type": "display_data"
    },
    {
     "data": {
      "text/html": [
       "<pre style=\"white-space:pre;overflow-x:auto;line-height:normal;font-family:Menlo,'DejaVu Sans Mono',consolas,'Courier New',monospace\"><span style=\"font-weight: bold\"> Trainable params: </span><span style=\"color: #00af00; text-decoration-color: #00af00\">1,313,025</span> (5.01 MB)\n",
       "</pre>\n"
      ],
      "text/plain": [
       "\u001b[1m Trainable params: \u001b[0m\u001b[38;5;34m1,313,025\u001b[0m (5.01 MB)\n"
      ]
     },
     "metadata": {},
     "output_type": "display_data"
    },
    {
     "data": {
      "text/html": [
       "<pre style=\"white-space:pre;overflow-x:auto;line-height:normal;font-family:Menlo,'DejaVu Sans Mono',consolas,'Courier New',monospace\"><span style=\"font-weight: bold\"> Non-trainable params: </span><span style=\"color: #00af00; text-decoration-color: #00af00\">0</span> (0.00 B)\n",
       "</pre>\n"
      ],
      "text/plain": [
       "\u001b[1m Non-trainable params: \u001b[0m\u001b[38;5;34m0\u001b[0m (0.00 B)\n"
      ]
     },
     "metadata": {},
     "output_type": "display_data"
    },
    {
     "data": {
      "text/html": [
       "<pre style=\"white-space:pre;overflow-x:auto;line-height:normal;font-family:Menlo,'DejaVu Sans Mono',consolas,'Courier New',monospace\"><span style=\"font-weight: bold\"> Optimizer params: </span><span style=\"color: #00af00; text-decoration-color: #00af00\">2</span> (12.00 B)\n",
       "</pre>\n"
      ],
      "text/plain": [
       "\u001b[1m Optimizer params: \u001b[0m\u001b[38;5;34m2\u001b[0m (12.00 B)\n"
      ]
     },
     "metadata": {},
     "output_type": "display_data"
    }
   ],
   "source": [
    "# Load the pre-trained model with ReLU activation\n",
    "model = load_model('simple_rnn_imdb.h5')\n",
    "model.summary()"
   ]
  },
  {
   "cell_type": "code",
   "execution_count": 4,
   "id": "9d49501f",
   "metadata": {},
   "outputs": [
    {
     "data": {
      "text/plain": [
       "[array([[ 0.28810757, -0.46101862, -0.17049527, ..., -0.21390246,\n",
       "         -0.17149076,  0.2578742 ],\n",
       "        [-0.02642305,  0.07222504, -0.01775182, ...,  0.10278602,\n",
       "          0.03877353, -0.11452183],\n",
       "        [-0.02358921,  0.09342836, -0.03918292, ...,  0.1000216 ,\n",
       "         -0.03250226, -0.10106257],\n",
       "        ...,\n",
       "        [ 0.01119283, -0.05236396, -0.00193036, ...,  0.08131013,\n",
       "          0.03596048, -0.02171365],\n",
       "        [ 0.05048114,  0.01645036,  0.09955018, ..., -0.0937033 ,\n",
       "         -0.05721608, -0.00458771],\n",
       "        [-0.1327384 ,  0.0791266 ,  0.02707657, ..., -0.07092443,\n",
       "         -0.02632   , -0.02375449]], dtype=float32),\n",
       " array([[-0.16175969, -0.05610339,  0.1156897 , ...,  0.05526939,\n",
       "          0.04072684,  0.05052366],\n",
       "        [-0.01120755, -0.18020596, -0.11420932, ..., -0.24644113,\n",
       "         -0.12633775,  0.04567369],\n",
       "        [-0.03526467,  0.10338159, -0.089531  , ..., -0.08909102,\n",
       "         -0.1033731 ,  0.10559603],\n",
       "        ...,\n",
       "        [-0.09309482, -0.02932704,  0.17579581, ..., -0.07130966,\n",
       "         -0.1786457 ,  0.14754967],\n",
       "        [ 0.08212651, -0.00484971,  0.02382464, ..., -0.06780034,\n",
       "          0.17817888, -0.00553146],\n",
       "        [-0.13086176,  0.20343627,  0.03857861, ..., -0.05864628,\n",
       "          0.04203611, -0.09483705]], dtype=float32),\n",
       " array([[ 0.04817494, -0.04573642, -0.18954833, ...,  0.00112875,\n",
       "         -0.19351913, -0.1377739 ],\n",
       "        [ 0.02807233, -0.04641858,  0.01251773, ...,  0.01712064,\n",
       "          0.16272624, -0.0600405 ],\n",
       "        [-0.03889749,  0.03222864, -0.06376798, ..., -0.09337083,\n",
       "         -0.12257061, -0.11860276],\n",
       "        ...,\n",
       "        [-0.1368457 ,  0.09684817, -0.09555877, ...,  0.15066099,\n",
       "          0.07258885, -0.01279074],\n",
       "        [ 0.05491984,  0.05744689, -0.10691338, ...,  0.09305046,\n",
       "          0.12456404, -0.04455844],\n",
       "        [-0.13258792,  0.09461782, -0.00744559, ...,  0.03265334,\n",
       "         -0.2962248 ,  0.0858226 ]], dtype=float32),\n",
       " array([ 0.01839004, -0.04182819, -0.00268218, -0.02840046, -0.01140505,\n",
       "        -0.01434902, -0.01053005, -0.02381488, -0.06133664,  0.02921362,\n",
       "         0.02301045, -0.01612895, -0.02736434, -0.01183544, -0.01877021,\n",
       "        -0.00635956,  0.03087306, -0.04061903, -0.03202738, -0.03950464,\n",
       "        -0.05239327, -0.02326136, -0.03657148, -0.04357807, -0.03811916,\n",
       "         0.01419474, -0.05535867,  0.01609107, -0.05283193,  0.02619494,\n",
       "        -0.06453696, -0.02812918, -0.04308204, -0.06642368, -0.02873138,\n",
       "         0.03929114,  0.00017232, -0.02304156,  0.01213147, -0.05488971,\n",
       "        -0.02090332, -0.0227209 , -0.06576166, -0.01752386, -0.04818298,\n",
       "        -0.00885863, -0.01530408, -0.00213372, -0.04264731, -0.02551498,\n",
       "        -0.0371254 , -0.01932275,  0.01733261, -0.00661069,  0.02793516,\n",
       "         0.02585369, -0.03968453, -0.0345276 ,  0.06289073,  0.02031635,\n",
       "        -0.0055211 , -0.06094996,  0.00118397, -0.02411071, -0.00758353,\n",
       "         0.020959  , -0.03517569,  0.00698286, -0.06224357,  0.03018808,\n",
       "        -0.01814298, -0.00450234, -0.01916872,  0.02687816,  0.0007158 ,\n",
       "        -0.03958715,  0.01893331,  0.0179596 , -0.00315153, -0.03764783,\n",
       "        -0.0104008 , -0.04308213, -0.03084406,  0.02681482, -0.03442936,\n",
       "        -0.03587886, -0.01974446,  0.01763487, -0.04123421, -0.04217641,\n",
       "        -0.03021966, -0.01521136, -0.04600186, -0.05487101, -0.01693568,\n",
       "         0.02660528, -0.01396388, -0.01658944, -0.01540771, -0.00789836,\n",
       "        -0.02684586, -0.02176386, -0.01397431, -0.00924764, -0.02899706,\n",
       "        -0.06447937, -0.05704748, -0.02754341,  0.01765771, -0.02091072,\n",
       "         0.02962729, -0.05355412, -0.02281065, -0.03481733, -0.00377915,\n",
       "        -0.05203646, -0.00812569,  0.00269933, -0.03316489, -0.05330344,\n",
       "        -0.03481504,  0.02745738,  0.03288275,  0.03755014, -0.01988613,\n",
       "        -0.03630235,  0.00160882, -0.01566437], dtype=float32),\n",
       " array([[ 0.07677246],\n",
       "        [ 0.01031813],\n",
       "        [-0.02865988],\n",
       "        [-0.29579282],\n",
       "        [-0.14176631],\n",
       "        [ 0.10597052],\n",
       "        [-0.22739214],\n",
       "        [ 0.0689283 ],\n",
       "        [ 0.0991513 ],\n",
       "        [ 0.10748655],\n",
       "        [ 0.14528611],\n",
       "        [ 0.06868902],\n",
       "        [ 0.17884041],\n",
       "        [-0.23072767],\n",
       "        [-0.24545142],\n",
       "        [ 0.1735144 ],\n",
       "        [ 0.0929968 ],\n",
       "        [-0.17200586],\n",
       "        [-0.02211338],\n",
       "        [ 0.02974913],\n",
       "        [-0.17164509],\n",
       "        [-0.09924443],\n",
       "        [ 0.17221296],\n",
       "        [ 0.01837384],\n",
       "        [-0.17881024],\n",
       "        [-0.2937775 ],\n",
       "        [ 0.15526977],\n",
       "        [ 0.05876542],\n",
       "        [-0.1834519 ],\n",
       "        [ 0.06326056],\n",
       "        [-0.50544155],\n",
       "        [-0.2032902 ],\n",
       "        [ 0.11795056],\n",
       "        [ 0.15997186],\n",
       "        [-0.00470527],\n",
       "        [-0.14331773],\n",
       "        [ 0.06857642],\n",
       "        [-0.09505713],\n",
       "        [ 0.01770376],\n",
       "        [-0.44980428],\n",
       "        [-0.47477767],\n",
       "        [ 0.1238983 ],\n",
       "        [-0.1705291 ],\n",
       "        [-0.03345662],\n",
       "        [ 0.04130638],\n",
       "        [ 0.24155611],\n",
       "        [-0.01122809],\n",
       "        [ 0.09366484],\n",
       "        [-0.14059277],\n",
       "        [ 0.21334833],\n",
       "        [-0.16763778],\n",
       "        [-0.08799203],\n",
       "        [ 0.18961655],\n",
       "        [-0.20048526],\n",
       "        [-0.2151735 ],\n",
       "        [-0.31216136],\n",
       "        [ 0.11628134],\n",
       "        [-0.10771152],\n",
       "        [ 0.33859944],\n",
       "        [ 0.13490252],\n",
       "        [-0.1546772 ],\n",
       "        [ 0.03190041],\n",
       "        [-0.16656792],\n",
       "        [ 0.34619492],\n",
       "        [-0.09956232],\n",
       "        [-0.13228619],\n",
       "        [ 0.2929985 ],\n",
       "        [ 0.18252105],\n",
       "        [ 0.00518816],\n",
       "        [ 0.07025189],\n",
       "        [ 0.2855544 ],\n",
       "        [-0.30186304],\n",
       "        [-0.58195496],\n",
       "        [ 0.42459255],\n",
       "        [ 0.11860581],\n",
       "        [-0.18156345],\n",
       "        [-0.08061619],\n",
       "        [-0.36187056],\n",
       "        [ 0.0870695 ],\n",
       "        [ 0.35299927],\n",
       "        [ 0.2466534 ],\n",
       "        [ 0.30065247],\n",
       "        [-0.01701029],\n",
       "        [ 0.06911957],\n",
       "        [ 0.06905407],\n",
       "        [-0.12880549],\n",
       "        [-0.46087587],\n",
       "        [ 0.15227708],\n",
       "        [-0.13210323],\n",
       "        [ 0.37619358],\n",
       "        [-0.5659278 ],\n",
       "        [-0.462611  ],\n",
       "        [ 0.10473229],\n",
       "        [-0.00387534],\n",
       "        [-0.30673656],\n",
       "        [ 0.10294816],\n",
       "        [-0.09240729],\n",
       "        [ 0.18858223],\n",
       "        [-0.22877662],\n",
       "        [ 0.08849121],\n",
       "        [-0.19531637],\n",
       "        [ 0.05687218],\n",
       "        [ 0.2917185 ],\n",
       "        [-0.16645607],\n",
       "        [ 0.03947231],\n",
       "        [ 0.09316466],\n",
       "        [-0.2800878 ],\n",
       "        [-0.5630512 ],\n",
       "        [-0.16711701],\n",
       "        [-0.19300741],\n",
       "        [ 0.2409552 ],\n",
       "        [ 0.08066595],\n",
       "        [-0.0137992 ],\n",
       "        [-0.07084145],\n",
       "        [-0.07553529],\n",
       "        [ 0.16164903],\n",
       "        [ 0.19525059],\n",
       "        [-0.10530984],\n",
       "        [ 0.3359111 ],\n",
       "        [-0.10791308],\n",
       "        [-0.1843565 ],\n",
       "        [-0.16938692],\n",
       "        [ 0.0319255 ],\n",
       "        [-0.002557  ],\n",
       "        [-0.03069809],\n",
       "        [-0.31809235],\n",
       "        [-0.4921221 ],\n",
       "        [-0.12666605]], dtype=float32),\n",
       " array([-0.30051786], dtype=float32)]"
      ]
     },
     "execution_count": 4,
     "metadata": {},
     "output_type": "execute_result"
    }
   ],
   "source": [
    "model.get_weights()"
   ]
  },
  {
   "cell_type": "code",
   "execution_count": 5,
   "id": "819b2f42",
   "metadata": {},
   "outputs": [],
   "source": [
    "# Step 2: Helper Functions\n",
    "# Function to decode reviews\n",
    "def decode_review(encoded_review):\n",
    "    return ' '.join([reverse_word_index.get(i - 3, '?') for i in encoded_review])\n",
    "\n",
    "# Function to preprocess user input\n",
    "def preprocess_text(text):\n",
    "    words = text.lower().split()\n",
    "    encoded_review = [word_index.get(word, 2) + 3 for word in words]\n",
    "    padded_review = sequence.pad_sequences([encoded_review], maxlen=500)\n",
    "    return padded_review"
   ]
  },
  {
   "cell_type": "code",
   "execution_count": 12,
   "id": "9fb2dc65",
   "metadata": {},
   "outputs": [],
   "source": [
    "### Prediction  function\n",
    "\n",
    "def predict_sentiment(review):\n",
    "    preprocessed_input=preprocess_text(review)\n",
    "\n",
    "    prediction=model.predict(preprocessed_input)\n",
    "\n",
    "    sentiment = 'Positive' if prediction[0][0] > 0.2 else 'Negative'\n",
    "    \n",
    "    return sentiment, prediction[0][0]\n",
    "\n"
   ]
  },
  {
   "cell_type": "code",
   "execution_count": 13,
   "id": "d9d5fa20",
   "metadata": {},
   "outputs": [
    {
     "name": "stdout",
     "output_type": "stream",
     "text": [
      "\u001b[1m1/1\u001b[0m \u001b[32m━━━━━━━━━━━━━━━━━━━━\u001b[0m\u001b[37m\u001b[0m \u001b[1m0s\u001b[0m 43ms/step\n",
      "Review: This movie was average! The acting was average and the plot was thrilling.\n",
      "Sentiment: Negative\n",
      "Prediction Score: 0.01965908147394657\n"
     ]
    }
   ],
   "source": [
    "# Step 4: User Input and Prediction\n",
    "# Example review for prediction\n",
    "example_review = \"This movie was average! The acting was average and the plot was thrilling.\"\n",
    "\n",
    "sentiment,score=predict_sentiment(example_review)\n",
    "\n",
    "print(f'Review: {example_review}')\n",
    "print(f'Sentiment: {sentiment}')\n",
    "print(f'Prediction Score: {score}')"
   ]
  },
  {
   "cell_type": "code",
   "execution_count": 14,
   "id": "b88f1743",
   "metadata": {},
   "outputs": [
    {
     "name": "stdout",
     "output_type": "stream",
     "text": [
      "\u001b[1m1/1\u001b[0m \u001b[32m━━━━━━━━━━━━━━━━━━━━\u001b[0m\u001b[37m\u001b[0m \u001b[1m0s\u001b[0m 43ms/step\n",
      "Review: This movie was fantastic! The acting was great and the plot was thrilling.\n",
      "Sentiment: Negative\n",
      "Prediction Score: 0.02544708549976349\n"
     ]
    }
   ],
   "source": [
    "# Step 4: User Input and Prediction\n",
    "# Example review for prediction\n",
    "example_review = \"This movie was fantastic! The acting was great and the plot was thrilling.\"\n",
    "\n",
    "sentiment,score=predict_sentiment(example_review)\n",
    "\n",
    "print(f'Review: {example_review}')\n",
    "print(f'Sentiment: {sentiment}')\n",
    "print(f'Prediction Score: {score}')"
   ]
  },
  {
   "cell_type": "code",
   "execution_count": 19,
   "id": "f1af954e",
   "metadata": {},
   "outputs": [
    {
     "name": "stdout",
     "output_type": "stream",
     "text": [
      "\u001b[1m1/1\u001b[0m \u001b[32m━━━━━━━━━━━━━━━━━━━━\u001b[0m\u001b[37m\u001b[0m \u001b[1m0s\u001b[0m 94ms/step\n",
      "Review: The movie was amazing and full of great moments. The story was easy to follow and very touching. The actors did a great job and the music made it even better. I loved every part of it and would watch it again. It is one of the best movies I have seen in a long time. Highly recommended for everyone!\n",
      "Sentiment: Positive\n",
      "Prediction Score: 0.9384860396385193\n"
     ]
    }
   ],
   "source": [
    "# Step 4: User Input and Prediction\n",
    "# Example review for prediction\n",
    "example_review = \"The movie was amazing and full of great moments. The story was easy to follow and very touching. The actors did a great job and the music made it even better. I loved every part of it and would watch it again. It is one of the best movies I have seen in a long time. Highly recommended for everyone!\"\n",
    "\n",
    "sentiment,score=predict_sentiment(example_review)\n",
    "\n",
    "print(f'Review: {example_review}')\n",
    "print(f'Sentiment: {sentiment}')\n",
    "print(f'Prediction Score: {score}')"
   ]
  },
  {
   "cell_type": "code",
   "execution_count": null,
   "id": "ce00f23a",
   "metadata": {},
   "outputs": [],
   "source": []
  },
  {
   "cell_type": "code",
   "execution_count": null,
   "id": "43da6e68",
   "metadata": {},
   "outputs": [],
   "source": []
  },
  {
   "cell_type": "code",
   "execution_count": null,
   "id": "0233a983",
   "metadata": {},
   "outputs": [],
   "source": []
  },
  {
   "cell_type": "code",
   "execution_count": null,
   "id": "2d7ef5fe",
   "metadata": {},
   "outputs": [],
   "source": []
  },
  {
   "cell_type": "code",
   "execution_count": null,
   "id": "09f53973",
   "metadata": {},
   "outputs": [],
   "source": []
  },
  {
   "cell_type": "code",
   "execution_count": null,
   "id": "13d43a27",
   "metadata": {},
   "outputs": [],
   "source": []
  },
  {
   "cell_type": "code",
   "execution_count": null,
   "id": "2ca427ff",
   "metadata": {},
   "outputs": [],
   "source": []
  },
  {
   "cell_type": "code",
   "execution_count": null,
   "id": "838922b7",
   "metadata": {},
   "outputs": [],
   "source": []
  },
  {
   "cell_type": "code",
   "execution_count": null,
   "id": "903e5d91",
   "metadata": {},
   "outputs": [],
   "source": []
  },
  {
   "cell_type": "code",
   "execution_count": null,
   "id": "ff99479d",
   "metadata": {},
   "outputs": [],
   "source": []
  },
  {
   "cell_type": "code",
   "execution_count": null,
   "id": "9a0794a2",
   "metadata": {},
   "outputs": [],
   "source": []
  }
 ],
 "metadata": {
  "kernelspec": {
   "display_name": "myenv",
   "language": "python",
   "name": "python3"
  },
  "language_info": {
   "codemirror_mode": {
    "name": "ipython",
    "version": 3
   },
   "file_extension": ".py",
   "mimetype": "text/x-python",
   "name": "python",
   "nbconvert_exporter": "python",
   "pygments_lexer": "ipython3",
   "version": "3.10.10"
  }
 },
 "nbformat": 4,
 "nbformat_minor": 5
}
